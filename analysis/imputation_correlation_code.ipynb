{
 "cells": [
  {
   "cell_type": "code",
   "execution_count": 9,
   "id": "0f347c01",
   "metadata": {},
   "outputs": [],
   "source": [
    "import pandas as pd\n",
    "import tsfresh"
   ]
  },
  {
   "cell_type": "markdown",
   "id": "b8d503e6",
   "metadata": {},
   "source": [
    "# Correlation Code"
   ]
  },
  {
   "cell_type": "markdown",
   "id": "d299e9dd",
   "metadata": {},
   "source": [
    "## training"
   ]
  },
  {
   "cell_type": "code",
   "execution_count": 3,
   "id": "5512281a",
   "metadata": {},
   "outputs": [],
   "source": [
    "# read in trait data\n",
    "train_trait = pd.read_csv('../Maize_GxE_Competition_Data/Training_Data/1_Training_Trait_Data_2014_2021.csv')\n",
    "# read in EC data\n",
    "ec_data =  pd.read_csv('../Maize_GxE_Competition_Data/Training_Data/6_Training_EC_Data_2014_2021.csv')\n",
    "\n",
    "# set environment as rownames\n",
    "ec_data.index = ec_data['Env']\n",
    "ec_data = ec_data.drop('Env', axis=1)\n",
    "\n",
    "# calculate pairwise correlation between features\n",
    "ec_data_corr = ec_data.corr().abs()\n",
    "\n",
    "# might need to: pip install tsfresh\n",
    "from tsfresh.feature_selection.relevance import calculate_relevance_table\n",
    "\n",
    "# feature association test with avg yield per environment\n",
    "y = train_trait.loc[train_trait['Env'].isin(ec_data.index),:].groupby('Env')['Yield_Mg_ha'].mean()\n",
    "features_relevance_table = calculate_relevance_table(ec_data, y) # order by feature significance (p-val)\n",
    "\n",
    "# filter highly correlated features\n",
    "corr_thresh = 0.8\n",
    "i = 0\n",
    "filtered_features_relevance_table = features_relevance_table\n",
    "while i < filtered_features_relevance_table.shape[0]:\n",
    "    feature = filtered_features_relevance_table['feature'][i]\n",
    "    corr_features = ec_data_corr.index[ec_data_corr.loc[feature] > corr_thresh].drop(feature, errors='ignore')\n",
    "    corr_features = corr_features[corr_features.isin(filtered_features_relevance_table.index)]\n",
    "    filtered_features_relevance_table = filtered_features_relevance_table.drop(corr_features, axis=0)\n",
    "    i = i + 1\n",
    "    \n",
    "filtered_features = filtered_features_relevance_table.index\n",
    "\n",
    "filtered_features_relevance_table.to_csv(\"EC_feature_relevance.csv\")"
   ]
  },
  {
   "cell_type": "markdown",
   "id": "24055d5c",
   "metadata": {},
   "source": [
    "# Testing"
   ]
  },
  {
   "cell_type": "markdown",
   "id": "9944ad97",
   "metadata": {},
   "source": [
    "# imputation"
   ]
  },
  {
   "cell_type": "markdown",
   "id": "57077076",
   "metadata": {},
   "source": [
    "## training"
   ]
  },
  {
   "cell_type": "code",
   "execution_count": 21,
   "id": "43fcb2cc",
   "metadata": {},
   "outputs": [],
   "source": [
    "from sklearn.impute import KNNImputer"
   ]
  },
  {
   "cell_type": "code",
   "execution_count": 28,
   "id": "817eb8a5",
   "metadata": {},
   "outputs": [],
   "source": [
    "data = pd.read_csv('normalized_soil.csv')\n",
    "imputer = KNNImputer(n_neighbors=5, weights=\"uniform\")\n",
    "imputer.fit_transform(data)\n",
    "pd.DataFrame(imputer.transform(data), index=data.index, columns=data.columns).to_csv(\"iputed_soil_data.csv\")"
   ]
  },
  {
   "cell_type": "code",
   "execution_count": 26,
   "id": "a02b39ba",
   "metadata": {},
   "outputs": [],
   "source": []
  },
  {
   "cell_type": "markdown",
   "id": "6e92af00",
   "metadata": {},
   "source": [
    "## testing"
   ]
  },
  {
   "cell_type": "code",
   "execution_count": 27,
   "id": "370cf0b7",
   "metadata": {},
   "outputs": [],
   "source": [
    "data = pd.read_csv('normalized_test_soil.csv')\n",
    "imputer = KNNImputer(n_neighbors=5, weights=\"uniform\")\n",
    "imputer.fit_transform(data)\n",
    "pd.DataFrame(imputer.transform(data), index=data.index, columns=data.columns).to_csv(\"iputed_test_soil_data.csv\")"
   ]
  },
  {
   "cell_type": "code",
   "execution_count": null,
   "id": "fce65a3d",
   "metadata": {},
   "outputs": [],
   "source": []
  }
 ],
 "metadata": {
  "kernelspec": {
   "display_name": "Python 3 (ipykernel)",
   "language": "python",
   "name": "python3"
  },
  "language_info": {
   "codemirror_mode": {
    "name": "ipython",
    "version": 3
   },
   "file_extension": ".py",
   "mimetype": "text/x-python",
   "name": "python",
   "nbconvert_exporter": "python",
   "pygments_lexer": "ipython3",
   "version": "3.9.12"
  },
  "toc": {
   "base_numbering": 1,
   "nav_menu": {},
   "number_sections": true,
   "sideBar": true,
   "skip_h1_title": false,
   "title_cell": "Table of Contents",
   "title_sidebar": "Contents",
   "toc_cell": false,
   "toc_position": {},
   "toc_section_display": true,
   "toc_window_display": false
  }
 },
 "nbformat": 4,
 "nbformat_minor": 5
}
